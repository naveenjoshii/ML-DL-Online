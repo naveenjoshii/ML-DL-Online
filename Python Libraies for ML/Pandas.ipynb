{
 "cells": [
  {
   "cell_type": "markdown",
   "metadata": {},
   "source": [
    "# A Brief Intro to Pandas"
   ]
  },
  {
   "cell_type": "markdown",
   "metadata": {},
   "source": [
    "### What does pandas do\n",
    "\n",
    "- Loads data from files to a common work environment, it can work with file types like .csv, .xlsx, .hd5, SQL files, etc..\n",
    "- Provides data structures that has many inbuilt methods to interact with data\n",
    "\n",
    "-----\n",
    "   ##### It helps in \n",
    "- Analysing the data\n",
    "- Manipulating the Data\n",
    "- Perform basic visualisations\n",
    "- Perform Feature Engineering (Nothing but manipulating data based on our analysis)."
   ]
  },
  {
   "cell_type": "markdown",
   "metadata": {},
   "source": [
    "#### Data Types in Pandas\n",
    "- Series      (1D)\n",
    "- Data Frames (2D)\n",
    "- Panel  (Multi Dimensional)\n",
    "\n",
    "----\n",
    "\n",
    "- we work a lot with Series and Data Frames in real world, compared to panels (atleast in the basic level)."
   ]
  },
  {
   "cell_type": "markdown",
   "metadata": {},
   "source": [
    "#### Some Common points to note \n",
    "- Strings are represented as object type in pandas.\n",
    "- float is a commonly used numercial type compared to integer.\n",
    "- There are several types of data namely **_Categorical, Nominal, Ordinal_** which are very important to deal with.\n",
    "- There are **_Outliers_**, which affet the generalisation of the data, so they should be handled properly.\n",
    "- It is imp to know which operation is **inplace** and which is not (_Remember me if I forget to explain this_) "
   ]
  },
  {
   "cell_type": "code",
   "execution_count": null,
   "metadata": {},
   "outputs": [],
   "source": [
    "# importing necessary libraries with commonly used aliases\n",
    "\n",
    "import pandas as pd\n",
    "\n",
    "# don't worry about the following we'll discuss them later.\n",
    "import numpy as np\n",
    "from datetime import datetime"
   ]
  },
  {
   "cell_type": "markdown",
   "metadata": {},
   "source": [
    "## Creation of a Pandas Series Object"
   ]
  },
  {
   "cell_type": "code",
   "execution_count": null,
   "metadata": {},
   "outputs": [],
   "source": [
    "# Creating a Series using array\n",
    "arr = list(range(10,21))\n",
    "ser_arr = pd.Series(arr)\n",
    "print(ser_arr)"
   ]
  },
  {
   "cell_type": "code",
   "execution_count": null,
   "metadata": {},
   "outputs": [],
   "source": [
    "ser_arr.dtype"
   ]
  },
  {
   "cell_type": "code",
   "execution_count": null,
   "metadata": {},
   "outputs": [],
   "source": [
    "ser_arr.shape"
   ]
  },
  {
   "cell_type": "code",
   "execution_count": null,
   "metadata": {},
   "outputs": [],
   "source": [
    "# Creating a Series using numpy array\n",
    "np_arr = np.random.randn(10)\n",
    "ser_np_arr = pd.Series(np_arr)\n",
    "print(ser_np_arr)"
   ]
  },
  {
   "cell_type": "code",
   "execution_count": null,
   "metadata": {},
   "outputs": [],
   "source": [
    "# creating a Series using dictionary\n",
    "dic = dict()\n",
    "for i in range(10):\n",
    "    dic[chr(ord('a')+i)] = i\n",
    "print(dic)\n",
    "\n",
    "ser_dic = pd.Series(dic)\n",
    "\n",
    "print(ser_dic)"
   ]
  },
  {
   "cell_type": "code",
   "execution_count": null,
   "metadata": {},
   "outputs": [],
   "source": [
    "# changing the index of Series\n",
    "ser_dic.index = [chr(ord('k')+i) for i in range(10)]\n",
    "# if no. of elements in Index doesn't match with no. of data elements in Series, it would raise an error.\n",
    "\n",
    "print(ser_dic)"
   ]
  },
  {
   "cell_type": "code",
   "execution_count": null,
   "metadata": {},
   "outputs": [],
   "source": [
    "# creating a Series object with heterogenous data\n",
    "dic = {'Name':'Pardhu','Age':21,'Dept':'CSE','Sem':'VI'}\n",
    "pardhu = pd.Series(dic)\n",
    "print(pardhu)"
   ]
  },
  {
   "cell_type": "code",
   "execution_count": null,
   "metadata": {},
   "outputs": [],
   "source": [
    "#creating same series as above in a different way\n",
    "pardhu_way2 = pd.Series(['Pardhu',21,'CSE','VI'], index=['Name','Age','Dept','Sem'])\n",
    "print(pardhu_way2)"
   ]
  },
  {
   "cell_type": "markdown",
   "metadata": {},
   "source": [
    "## Accessing elements from a Series Object"
   ]
  },
  {
   "cell_type": "code",
   "execution_count": null,
   "metadata": {},
   "outputs": [],
   "source": [
    "# the primary way is to acess it as a dictionary in python \n",
    "print(pardhu['Name'])\n",
    "print(ser_dic['m'])\n",
    "print(ser_arr[6])\n",
    "\n",
    "print('----------------')\n",
    "\n",
    "#using a method called loc --> location\n",
    "print(pardhu.loc['Name'])\n",
    "print(ser_dic.loc['m'])\n",
    "print(ser_arr.loc[6])"
   ]
  },
  {
   "cell_type": "code",
   "execution_count": null,
   "metadata": {},
   "outputs": [],
   "source": [
    "# every series object has a 0 based indexing irrespective of what index it has explicitly.\n",
    "print(pardhu[1])   # our index label 'Age'\n",
    "print(ser_dic[4])  # our index label 'o'\n",
    "\n",
    "print('----------------')\n",
    "\n",
    "#using a method called iloc --> index location\n",
    "print(pardhu.iloc[1])\n",
    "print(ser_dic.iloc[4])"
   ]
  },
  {
   "cell_type": "code",
   "execution_count": null,
   "metadata": {},
   "outputs": [],
   "source": [
    "# Accessing multiple elements\n",
    "print(pardhu[[1,2,3]])\n",
    "print(pardhu.iloc[[1,2,3]])\n",
    "print('---------------')\n",
    "print(ser_dic[[0,2,4,6,8]])\n",
    "print(ser_dic.iloc[[0,2,4,6,8]])\n",
    "print('---------------')\n",
    "print(ser_arr[[1,3,5,7,9]])\n",
    "print(ser_arr.iloc[[1,3,5,7,9]])"
   ]
  },
  {
   "cell_type": "code",
   "execution_count": null,
   "metadata": {},
   "outputs": [],
   "source": [
    "# Accesing multiple elements using Slicing (Same a slicing a list in python)\n",
    "print(pardhu[1:3])\n",
    "print('---------------')\n",
    "print(ser_dic[0:9:2])\n",
    "print('---------------')\n",
    "print(ser_arr[1:10:2])"
   ]
  },
  {
   "cell_type": "code",
   "execution_count": null,
   "metadata": {},
   "outputs": [],
   "source": [
    "# first five elements of a series\n",
    "print(ser_dic.head())\n",
    "\n",
    "print('------------')\n",
    "\n",
    "# if we pass an integer n to head, it would return first n rows\n",
    "ser_dic.head(3)"
   ]
  },
  {
   "cell_type": "code",
   "execution_count": null,
   "metadata": {},
   "outputs": [],
   "source": [
    "# last five elements of a series\n",
    "print(ser_dic.tail())\n",
    "\n",
    "print('-------')\n",
    "\n",
    "#if we pass an integer n to head, it would return last n rows\n",
    "print(ser_dic.tail(4))"
   ]
  },
  {
   "cell_type": "markdown",
   "metadata": {},
   "source": [
    "## Modifying elements of a series"
   ]
  },
  {
   "cell_type": "code",
   "execution_count": null,
   "metadata": {},
   "outputs": [],
   "source": [
    "ser_dic"
   ]
  },
  {
   "cell_type": "code",
   "execution_count": null,
   "metadata": {},
   "outputs": [],
   "source": [
    "ser_dic['m'] = 11\n",
    "ser_dic.head()"
   ]
  },
  {
   "cell_type": "code",
   "execution_count": null,
   "metadata": {},
   "outputs": [],
   "source": [
    "pardhu['Sem'] = 'VIII'\n",
    "pardhu"
   ]
  },
  {
   "cell_type": "code",
   "execution_count": null,
   "metadata": {},
   "outputs": [],
   "source": [
    "ser_dic[['m','n','o','p']] = [11,12,13,14]\n",
    "ser_dic.head(6)"
   ]
  },
  {
   "cell_type": "code",
   "execution_count": null,
   "metadata": {},
   "outputs": [],
   "source": [
    "ser_dic.iloc[2] = 17\n",
    "ser_dic.head()"
   ]
  },
  {
   "cell_type": "code",
   "execution_count": null,
   "metadata": {},
   "outputs": [],
   "source": [
    "ser_dic.loc['k'] = 18\n",
    "ser_dic.head()"
   ]
  },
  {
   "cell_type": "markdown",
   "metadata": {},
   "source": [
    "# Mathematical operations"
   ]
  },
  {
   "cell_type": "code",
   "execution_count": null,
   "metadata": {},
   "outputs": [],
   "source": [
    "ser_dic"
   ]
  },
  {
   "cell_type": "code",
   "execution_count": null,
   "metadata": {},
   "outputs": [],
   "source": [
    "print('Sum:',ser_dic.sum())\n",
    "print('Mean:',ser_dic.mean())\n",
    "print('Standard Deviation:',ser_dic.std())"
   ]
  },
  {
   "cell_type": "code",
   "execution_count": null,
   "metadata": {},
   "outputs": [],
   "source": [
    "print(ser_dic.max())\n",
    "print(ser_dic.min())"
   ]
  },
  {
   "cell_type": "code",
   "execution_count": null,
   "metadata": {},
   "outputs": [],
   "source": [
    "print(ser_dic.idxmax())\n",
    "print(ser_dic.idxmin())"
   ]
  },
  {
   "cell_type": "code",
   "execution_count": null,
   "metadata": {},
   "outputs": [],
   "source": [
    "all_falses = pd.Series([0]*10)\n",
    "print(all_falses)"
   ]
  },
  {
   "cell_type": "code",
   "execution_count": null,
   "metadata": {},
   "outputs": [],
   "source": [
    "# checking if all the elements are non zeros\n",
    "print(all_falses.all())\n",
    "\n",
    "# checking if any one the elements is non Zero\n",
    "print(all_falses.any())"
   ]
  },
  {
   "cell_type": "code",
   "execution_count": null,
   "metadata": {},
   "outputs": [],
   "source": [
    "# let's try changing a value in all_falses\n",
    "all_falses[4] = 'Pardhu'\n",
    "all_falses[6] = 7\n",
    "all_falses[2] = True"
   ]
  },
  {
   "cell_type": "markdown",
   "metadata": {},
   "source": [
    "# Miscellaneous"
   ]
  },
  {
   "cell_type": "code",
   "execution_count": null,
   "metadata": {},
   "outputs": [],
   "source": [
    "ser = pd.Series([1,2,3,np.NaN,4,3,2,1,np.NaN,5,6,4,3,np.NaN,2,1])"
   ]
  },
  {
   "cell_type": "code",
   "execution_count": null,
   "metadata": {},
   "outputs": [],
   "source": [
    "ser.isnull()"
   ]
  },
  {
   "cell_type": "code",
   "execution_count": null,
   "metadata": {},
   "outputs": [],
   "source": [
    "ser.isnull().any()"
   ]
  },
  {
   "cell_type": "code",
   "execution_count": null,
   "metadata": {},
   "outputs": [],
   "source": [
    "ser.isnull().all()"
   ]
  },
  {
   "cell_type": "code",
   "execution_count": null,
   "metadata": {},
   "outputs": [],
   "source": [
    "# gives all the elements in the Series only once.\n",
    "ser.unique()"
   ]
  },
  {
   "cell_type": "code",
   "execution_count": null,
   "metadata": {},
   "outputs": [],
   "source": [
    "# no, of elements which occured atleast once\n",
    "ser.nunique()"
   ]
  },
  {
   "cell_type": "code",
   "execution_count": null,
   "metadata": {},
   "outputs": [],
   "source": [
    "# gives each element and the no.of occurances of that element\n",
    "ser.value_counts()"
   ]
  },
  {
   "cell_type": "code",
   "execution_count": null,
   "metadata": {},
   "outputs": [],
   "source": [
    "ser==1"
   ]
  },
  {
   "cell_type": "code",
   "execution_count": null,
   "metadata": {},
   "outputs": [],
   "source": [
    "ser[ser<6]\n",
    "# element with index 8 is missing since it's not <6"
   ]
  },
  {
   "cell_type": "code",
   "execution_count": null,
   "metadata": {},
   "outputs": [],
   "source": [
    "ser_dic"
   ]
  },
  {
   "cell_type": "code",
   "execution_count": null,
   "metadata": {},
   "outputs": [],
   "source": [
    "# default is ascending\n",
    "ser_dic = ser_dic.sort_values()\n",
    "ser_dic"
   ]
  },
  {
   "cell_type": "code",
   "execution_count": null,
   "metadata": {},
   "outputs": [],
   "source": [
    "ser_dic = ser_dic.sort_index()\n",
    "ser_dic"
   ]
  },
  {
   "cell_type": "code",
   "execution_count": null,
   "metadata": {},
   "outputs": [],
   "source": [
    "neg_pos = pd.Series(list(range(-5,5)))\n",
    "neg_pos"
   ]
  },
  {
   "cell_type": "code",
   "execution_count": null,
   "metadata": {},
   "outputs": [],
   "source": [
    "neg_pos.abs()"
   ]
  },
  {
   "cell_type": "code",
   "execution_count": null,
   "metadata": {},
   "outputs": [],
   "source": [
    "neg_pos.add_prefix('X')"
   ]
  },
  {
   "cell_type": "code",
   "execution_count": null,
   "metadata": {},
   "outputs": [],
   "source": [
    "neg_pos.add_suffix('Y')"
   ]
  },
  {
   "cell_type": "code",
   "execution_count": null,
   "metadata": {},
   "outputs": [],
   "source": [
    "neg_pos.apply(lambda x: x**2 if x>0 else x**3)"
   ]
  },
  {
   "cell_type": "code",
   "execution_count": null,
   "metadata": {},
   "outputs": [],
   "source": [
    "a = pd.Series(list(range(5)))\n",
    "b = pd.Series(list(range(5,11)))\n",
    "print(a.append(b)) # doesn't ignore index, keep the series' own index\n",
    "print(a.append(b, ignore_index=1)) # creates a new index"
   ]
  },
  {
   "cell_type": "code",
   "execution_count": null,
   "metadata": {},
   "outputs": [],
   "source": [
    "a.astype('float')"
   ]
  },
  {
   "cell_type": "code",
   "execution_count": null,
   "metadata": {},
   "outputs": [],
   "source": [
    "a.between(1,10)"
   ]
  },
  {
   "cell_type": "code",
   "execution_count": null,
   "metadata": {},
   "outputs": [],
   "source": [
    "c = pd.Series(list(range(2,10)))"
   ]
  },
  {
   "cell_type": "code",
   "execution_count": null,
   "metadata": {},
   "outputs": [],
   "source": [
    "# all the elements that are less than lower are changed to lower\n",
    "# all the elements that are greater than upper are changed to upper\n",
    "# all the elements that are in between lower and upper are left as they are.\n",
    "c.clip(lower=4, upper=7)"
   ]
  },
  {
   "cell_type": "code",
   "execution_count": null,
   "metadata": {},
   "outputs": [],
   "source": [
    "# Gives cummulative max upto that index\n",
    "c.cummax()"
   ]
  },
  {
   "cell_type": "code",
   "execution_count": null,
   "metadata": {},
   "outputs": [],
   "source": [
    "# Gives cummulative min upto that index\n",
    "c.cummin()"
   ]
  },
  {
   "cell_type": "markdown",
   "metadata": {},
   "source": [
    "# Ok let's move to Data Frames now... Bye :)"
   ]
  }
 ],
 "metadata": {
  "kernelspec": {
   "display_name": "Python 3",
   "language": "python",
   "name": "python3"
  },
  "language_info": {
   "codemirror_mode": {
    "name": "ipython",
    "version": 3
   },
   "file_extension": ".py",
   "mimetype": "text/x-python",
   "name": "python",
   "nbconvert_exporter": "python",
   "pygments_lexer": "ipython3",
   "version": "3.6.6"
  }
 },
 "nbformat": 4,
 "nbformat_minor": 2
}
