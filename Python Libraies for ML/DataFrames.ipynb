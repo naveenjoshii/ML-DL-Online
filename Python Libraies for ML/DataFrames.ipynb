{
 "cells": [
  {
   "cell_type": "markdown",
   "metadata": {},
   "source": [
    "# Data Frames\n",
    "\n",
    "- Dataframes are 2 dimensional Data structures in pandas (similar to tables in Relational Databases, but are heterogenous).\n",
    "- Dataframes are the combination of Series ( Each Column in a DataFrame is a Series).\n",
    "- Each Data Frame Column supports all the appropriate methods that are supported by a pandas _**Series**_\n",
    "- Now let's discuss the things that are native to Data Frames and how they can be used."
   ]
  },
  {
   "cell_type": "markdown",
   "metadata": {},
   "source": [
    "# Creation of Data Frame\n",
    "\n",
    "- As Data Frames are two dimensional Structures, it's easy to create from a supported file format.\n",
    "- But creation through list of dictionaries, combination of multiple series is also possible.\n",
    "- Let's explore them one by one."
   ]
  },
  {
   "cell_type": "code",
   "execution_count": null,
   "metadata": {},
   "outputs": [],
   "source": [
    "import pandas as pd"
   ]
  },
  {
   "cell_type": "code",
   "execution_count": null,
   "metadata": {},
   "outputs": [],
   "source": [
    "import random\n",
    "students_list = []\n",
    "departments = ['CSE','IT','Mech','Civil','Chem','ECE','EEE']\n",
    "for i in range(26):\n",
    "    student = {}\n",
    "    student['Name'] = chr(ord('a')+i)\n",
    "    student['Age'] = 20+random.randint(0,3)\n",
    "    student['Dept'] = departments[random.randint(0,6)]\n",
    "    student['Sem'] = random.randint(0,8)\n",
    "    students_list.append(student)\n",
    "students_list[:5]"
   ]
  },
  {
   "cell_type": "code",
   "execution_count": null,
   "metadata": {},
   "outputs": [],
   "source": [
    "students = pd.DataFrame(students_list)"
   ]
  },
  {
   "cell_type": "code",
   "execution_count": null,
   "metadata": {},
   "outputs": [],
   "source": [
    "students.head()"
   ]
  },
  {
   "cell_type": "code",
   "execution_count": null,
   "metadata": {},
   "outputs": [],
   "source": [
    "students[['Name','Dept']].describe()"
   ]
  },
  {
   "cell_type": "markdown",
   "metadata": {},
   "source": [
    "### Dataframe can be explored in depth if we have good data to play with\n",
    "- So lets explore the features on a data frame with a data set called House Price Prediction.\n",
    "\n",
    "--- \n",
    "\n",
    "- This data is taken from [here](https://www.kaggle.com/c/house-prices-advanced-regression-techniques/data)\n",
    "\n",
    "- Feel free to participate in this competition once you complete Titanic Survival Prediction"
   ]
  },
  {
   "cell_type": "markdown",
   "metadata": {},
   "source": [
    "#### In order to load data from files, we can use methods such as\n",
    "- read_csv   --> to read .csv files\n",
    "- read_excel --> to read excel files\n",
    "- read_clipboard --> to read data from system's clip board.\n",
    "\n",
    "---\n",
    "\n",
    "- there are many other supported file types as discussed before, explore them if you want to use them (especially .hd5 and SQL)"
   ]
  },
  {
   "cell_type": "code",
   "execution_count": null,
   "metadata": {},
   "outputs": [],
   "source": [
    "df = pd.read_csv('house_price.csv')"
   ]
  },
  {
   "cell_type": "code",
   "execution_count": null,
   "metadata": {},
   "outputs": [],
   "source": [
    "#info is a very imp method, to get the overview of the data in the data frame.\n",
    "\n",
    "'''\n",
    "Five key things to remeber here\n",
    "\n",
    "1. Number of rows in the DataFrame\n",
    "2. Number of Columns in the Data Frame\n",
    "3. Name of each column and Type of data in it.\n",
    "4. Number of non null values in each column\n",
    "5. Memory Usage of this Data Frame\n",
    "'''\n",
    "\n",
    "df.info()"
   ]
  },
  {
   "cell_type": "code",
   "execution_count": null,
   "metadata": {},
   "outputs": [],
   "source": [
    "# describe is an another imp method to know about the statistical info of the data.\n",
    "\n",
    "'''\n",
    "Key things to remeber here\n",
    "\n",
    "For all the Columns with numerical data we'll get\n",
    "1. Count of non null values.\n",
    "2. Mean\n",
    "3. Standard Deviation\n",
    "4. Minimum Value\n",
    "5. 25 percentile value\n",
    "6. 50 percentile value\n",
    "7. 75 percentile value\n",
    "8. Maximum value\n",
    "\n",
    "For non numerical columns we get\n",
    "1. no. of unique values in that column\n",
    "2. value that occured most no. of times (top)\n",
    "3. freq of top\n",
    "'''\n",
    "\n",
    "df.describe()"
   ]
  },
  {
   "cell_type": "code",
   "execution_count": null,
   "metadata": {},
   "outputs": [],
   "source": [
    "df.head()"
   ]
  },
  {
   "cell_type": "code",
   "execution_count": null,
   "metadata": {},
   "outputs": [],
   "source": [
    "df.tail()"
   ]
  },
  {
   "cell_type": "code",
   "execution_count": null,
   "metadata": {},
   "outputs": [],
   "source": [
    "df.index"
   ]
  },
  {
   "cell_type": "code",
   "execution_count": null,
   "metadata": {},
   "outputs": [],
   "source": [
    "df.columns"
   ]
  },
  {
   "cell_type": "markdown",
   "metadata": {},
   "source": [
    "## Acessing a Data Frame "
   ]
  },
  {
   "cell_type": "code",
   "execution_count": null,
   "metadata": {},
   "outputs": [],
   "source": [
    "# accesing a row --> it is a series object\n",
    "print('TYPE:',type(df.iloc[1]))\n",
    "df.iloc[1]"
   ]
  },
  {
   "cell_type": "code",
   "execution_count": null,
   "metadata": {},
   "outputs": [],
   "source": [
    "# accessing a Column --> it is also a series object\n",
    "print('TYPE:',type(df['MSZoning']))\n",
    "df['MSZoning']"
   ]
  },
  {
   "cell_type": "code",
   "execution_count": null,
   "metadata": {},
   "outputs": [],
   "source": [
    "## Accessing multiple rows \n",
    "df.iloc[[1,3,5]]"
   ]
  },
  {
   "cell_type": "code",
   "execution_count": null,
   "metadata": {},
   "outputs": [],
   "source": [
    "# Accessing multiple rows using slicing\n",
    "df.iloc[1:5]"
   ]
  },
  {
   "cell_type": "code",
   "execution_count": null,
   "metadata": {},
   "outputs": [],
   "source": [
    "# Accessing specific rows from a specific column\n",
    "df['MSZoning'].iloc[1:5]"
   ]
  },
  {
   "cell_type": "code",
   "execution_count": null,
   "metadata": {},
   "outputs": [],
   "source": [
    "# Accessing columns using index position\n",
    "df.iloc[:,2] # gives all the rows for 3rd column "
   ]
  },
  {
   "cell_type": "code",
   "execution_count": null,
   "metadata": {},
   "outputs": [],
   "source": [
    "# Accessing a part of rows in a set of columns\n",
    "df.iloc[1:5,2:4]\n",
    "# rows --> 1,2,3,4 of columns 2 and 3"
   ]
  },
  {
   "cell_type": "code",
   "execution_count": null,
   "metadata": {},
   "outputs": [],
   "source": [
    "df['MSZoning'].nunique()"
   ]
  },
  {
   "cell_type": "code",
   "execution_count": null,
   "metadata": {},
   "outputs": [],
   "source": [
    "df['MSZoning'].unique()"
   ]
  },
  {
   "cell_type": "code",
   "execution_count": null,
   "metadata": {},
   "outputs": [],
   "source": [
    "df['MSZoning'].value_counts()"
   ]
  },
  {
   "cell_type": "code",
   "execution_count": null,
   "metadata": {},
   "outputs": [],
   "source": [
    "df['LotShape'].nunique()"
   ]
  },
  {
   "cell_type": "code",
   "execution_count": null,
   "metadata": {},
   "outputs": [],
   "source": [
    "df['LotShape'].value_counts()"
   ]
  },
  {
   "cell_type": "code",
   "execution_count": null,
   "metadata": {},
   "outputs": [],
   "source": [
    "df['YrSold'].nunique()"
   ]
  },
  {
   "cell_type": "code",
   "execution_count": null,
   "metadata": {},
   "outputs": [],
   "source": [
    "df['YrSold'].value_counts()"
   ]
  },
  {
   "cell_type": "markdown",
   "metadata": {},
   "source": [
    "## Filtering the Data Frame"
   ]
  },
  {
   "cell_type": "markdown",
   "metadata": {},
   "source": [
    "- Data Frame column can be compared with values and this results in a boolean Series\n",
    "- When a boolean series is passed to Data Frame then this returns the values only where series element is True\n",
    "- we can combine multiple conditions using operators like & (and), | (or)"
   ]
  },
  {
   "cell_type": "code",
   "execution_count": null,
   "metadata": {},
   "outputs": [],
   "source": [
    "df[(df['MSZoning']=='RL') & (df['LotShape']=='IR1')].head()"
   ]
  },
  {
   "cell_type": "code",
   "execution_count": null,
   "metadata": {},
   "outputs": [],
   "source": [
    "df[df['YrSold']>2008 & ((df['MSZoning']=='RL') | (df['LotShape']=='Reg'))].head()"
   ]
  },
  {
   "cell_type": "markdown",
   "metadata": {},
   "source": [
    "# Missing Values"
   ]
  },
  {
   "cell_type": "markdown",
   "metadata": {},
   "source": [
    "- Missing values can be dealt in three ways\n",
    "1. Removing entire rows or columns that has missing values\n",
    "2. Filling them with any constant (applicaple to all the missing values in a column)\n",
    "3. Filling them using a specific function or filling them manually."
   ]
  },
  {
   "cell_type": "code",
   "execution_count": null,
   "metadata": {},
   "outputs": [],
   "source": [
    "# checking if a row has all null values\n",
    "df[df.isnull().all(axis=1)]"
   ]
  },
  {
   "cell_type": "code",
   "execution_count": null,
   "metadata": {},
   "outputs": [],
   "source": [
    "df[df.isnull().any(axis=1)]"
   ]
  },
  {
   "cell_type": "code",
   "execution_count": null,
   "metadata": {},
   "outputs": [],
   "source": [
    "# to visualise the missing values in columns\n",
    "from missingno import matrix\n",
    "%matplotlib inline\n",
    "matrix(df)\n",
    "\n",
    "# whites represent missing values"
   ]
  },
  {
   "cell_type": "code",
   "execution_count": null,
   "metadata": {},
   "outputs": [],
   "source": [
    "# Now we know there are missing values so we need to handle them.\n",
    "# let's try deleting all rows that has missing values\n",
    "df.dropna()\n",
    "\n",
    "# Oh..we have a missing value in every row so we can't do this"
   ]
  },
  {
   "cell_type": "code",
   "execution_count": null,
   "metadata": {},
   "outputs": [],
   "source": [
    "df.dropna(how='all',inplace=True)"
   ]
  },
  {
   "cell_type": "code",
   "execution_count": null,
   "metadata": {},
   "outputs": [],
   "source": [
    "df.info()\n",
    "\n",
    "# Alley, FireplaceQu, PoolQc, Fence, MiscFeature can be removed with out a doubt"
   ]
  },
  {
   "cell_type": "code",
   "execution_count": null,
   "metadata": {},
   "outputs": [],
   "source": [
    "df.drop(['Alley','FireplaceQu','PoolQC','Fence','MiscFeature'], axis=1, inplace=True)"
   ]
  },
  {
   "cell_type": "code",
   "execution_count": null,
   "metadata": {},
   "outputs": [],
   "source": [
    "matrix(df)\n",
    "# more black than white"
   ]
  },
  {
   "cell_type": "code",
   "execution_count": null,
   "metadata": {},
   "outputs": [],
   "source": [
    "# Using a constant value to fill the missing values\n",
    "df['LotFrontage'].fillna(df['LotFrontage'].mean(), inplace=True)"
   ]
  },
  {
   "cell_type": "code",
   "execution_count": null,
   "metadata": {},
   "outputs": [],
   "source": [
    "df['LotFrontage'].isnull().any()"
   ]
  },
  {
   "cell_type": "code",
   "execution_count": null,
   "metadata": {},
   "outputs": [],
   "source": [
    "# Using a function to fill the missing values would be discuued during Titanic Survival prediction."
   ]
  },
  {
   "cell_type": "markdown",
   "metadata": {},
   "source": [
    "## Categorical Data"
   ]
  },
  {
   "cell_type": "markdown",
   "metadata": {},
   "source": [
    "- Data that can be divided into specific categories is called categorical data\n",
    "- Eg: Gender ( category1: Female, category2: Male)\n",
    "- Categorical Data can be classified as Nominal and Ordinal\n",
    "- Nominal data has no scale to it's data. Eg: Hair Color (Black, Brown, Gray) no color is superior or **this data has no order**\n",
    "- Ordinal data has scale i.e., one type of data is superior to other like good, better, best **good<better<best**"
   ]
  },
  {
   "cell_type": "code",
   "execution_count": null,
   "metadata": {},
   "outputs": [],
   "source": [
    "columns = list(df.columns)\n",
    "for column in columns:\n",
    "    print(column.upper(),df[column].nunique())"
   ]
  },
  {
   "cell_type": "code",
   "execution_count": null,
   "metadata": {},
   "outputs": [],
   "source": [
    "# we can see there are multiple columns that have less than 20 unique values, all those come into categorical columns"
   ]
  },
  {
   "cell_type": "code",
   "execution_count": null,
   "metadata": {},
   "outputs": [],
   "source": [
    "filtered_col = list(filter(lambda column:df[column].nunique()<20, columns))"
   ]
  },
  {
   "cell_type": "code",
   "execution_count": null,
   "metadata": {},
   "outputs": [],
   "source": [
    "len(filtered_col)"
   ]
  },
  {
   "cell_type": "code",
   "execution_count": null,
   "metadata": {},
   "outputs": [],
   "source": [
    "for col in filtered_col:\n",
    "    df[col] = df[col].astype('category')"
   ]
  },
  {
   "cell_type": "code",
   "execution_count": null,
   "metadata": {},
   "outputs": [],
   "source": [
    "df.info()"
   ]
  },
  {
   "cell_type": "markdown",
   "metadata": {},
   "source": [
    "## Groupby\n",
    "\n",
    "###### By “group by” we are referring to a process involving one or more of the following steps:\n",
    "\n",
    "- Splitting the data into groups based on some criteria.\n",
    "\n",
    "- Applying a function to each group independently.\n",
    "\n",
    "- Combining the results into a data structure.\n"
   ]
  },
  {
   "cell_type": "code",
   "execution_count": null,
   "metadata": {},
   "outputs": [],
   "source": [
    "# to discuss Groupby we'll look into a much more generalized data\n",
    "# this data set is about users\n",
    "df = pd.read_csv('users.csv')"
   ]
  },
  {
   "cell_type": "code",
   "execution_count": null,
   "metadata": {},
   "outputs": [],
   "source": [
    "df.info()"
   ]
  },
  {
   "cell_type": "code",
   "execution_count": null,
   "metadata": {},
   "outputs": [],
   "source": [
    "df.groupby('Gender').groups"
   ]
  },
  {
   "cell_type": "code",
   "execution_count": null,
   "metadata": {},
   "outputs": [],
   "source": [
    "df.groupby('Gender').describe()"
   ]
  },
  {
   "cell_type": "code",
   "execution_count": null,
   "metadata": {},
   "outputs": [],
   "source": [
    "df.groupby('Gender')['Age Category'].describe()"
   ]
  },
  {
   "cell_type": "code",
   "execution_count": null,
   "metadata": {},
   "outputs": [],
   "source": [
    "df.groupby('Gender').get_group('M').head()"
   ]
  },
  {
   "cell_type": "code",
   "execution_count": null,
   "metadata": {},
   "outputs": [],
   "source": [
    "import numpy as np"
   ]
  },
  {
   "cell_type": "code",
   "execution_count": null,
   "metadata": {},
   "outputs": [],
   "source": [
    "df.groupby('Gender')['Age Category'].aggregate(np.mean)"
   ]
  },
  {
   "cell_type": "code",
   "execution_count": null,
   "metadata": {},
   "outputs": [],
   "source": [
    "df.groupby('Gender').count()"
   ]
  },
  {
   "cell_type": "code",
   "execution_count": null,
   "metadata": {},
   "outputs": [],
   "source": [
    "df.groupby('Gender').apply(lambda x: x.mean())"
   ]
  },
  {
   "cell_type": "code",
   "execution_count": null,
   "metadata": {},
   "outputs": [],
   "source": [
    "trans = df.groupby('Gender')['Age Category'].transform(lambda x: (x-x.mean())/x.std())\n",
    "orig = df['Age Category']"
   ]
  },
  {
   "cell_type": "code",
   "execution_count": null,
   "metadata": {},
   "outputs": [],
   "source": [
    "temp = pd.DataFrame({'orig':orig,'trans':trans})\n",
    "temp.plot(xlim=(0,1000))"
   ]
  },
  {
   "cell_type": "markdown",
   "metadata": {},
   "source": [
    "# Time Series"
   ]
  },
  {
   "cell_type": "markdown",
   "metadata": {},
   "source": [
    "- Dealing with Date Time index is one of the important feature of pandas\n",
    "- It has properties like converting times from one timezone to another\n",
    "- Can be able to different ranges of date time"
   ]
  },
  {
   "cell_type": "code",
   "execution_count": null,
   "metadata": {},
   "outputs": [],
   "source": [
    "import pandas as pd"
   ]
  },
  {
   "cell_type": "code",
   "execution_count": null,
   "metadata": {},
   "outputs": [],
   "source": [
    "# let's create a date time index\n",
    "date_index = pd.date_range('2020-05-05', freq='D', periods=10)"
   ]
  },
  {
   "cell_type": "code",
   "execution_count": null,
   "metadata": {},
   "outputs": [],
   "source": [
    "date_index"
   ]
  },
  {
   "cell_type": "code",
   "execution_count": null,
   "metadata": {},
   "outputs": [],
   "source": [
    "time_index = pd.date_range('2020-05-05 12:00', freq='H', periods=10)\n",
    "time_index"
   ]
  },
  {
   "cell_type": "code",
   "execution_count": null,
   "metadata": {},
   "outputs": [],
   "source": [
    "month_index = pd.period_range('2020-05-05', freq='M', periods=10)\n",
    "month_index"
   ]
  },
  {
   "cell_type": "code",
   "execution_count": null,
   "metadata": {},
   "outputs": [],
   "source": [
    "time1 = pd.Timestamp('2020-05-05')\n",
    "time2 = pd.Timestamp('2020-03-05')\n",
    "time1-time2"
   ]
  },
  {
   "cell_type": "code",
   "execution_count": null,
   "metadata": {},
   "outputs": [],
   "source": [
    "month_index[0].year"
   ]
  },
  {
   "cell_type": "code",
   "execution_count": null,
   "metadata": {},
   "outputs": [],
   "source": [
    "date = pd.to_datetime('12/05/2020')\n",
    "# try to refer how to use different date formats: https://docs.python.org/3/library/datetime.html#strftime-and-strptime-behavior"
   ]
  },
  {
   "cell_type": "code",
   "execution_count": null,
   "metadata": {},
   "outputs": [],
   "source": [
    "date.month_name()"
   ]
  },
  {
   "cell_type": "markdown",
   "metadata": {},
   "source": [
    "### we can generate specific date ranges that can include\n",
    "- Holidays\n",
    "- Only specific days of a week  etc.\n",
    "\n",
    "---\n",
    "\n",
    "- Refer to pandas [Documentation](https://pandas.pydata.org/docs/user_guide/timeseries.html#custom-frequency-ranges) to explore them"
   ]
  },
  {
   "cell_type": "code",
   "execution_count": null,
   "metadata": {},
   "outputs": [],
   "source": []
  }
 ],
 "metadata": {
  "kernelspec": {
   "display_name": "Python 3",
   "language": "python",
   "name": "python3"
  },
  "language_info": {
   "codemirror_mode": {
    "name": "ipython",
    "version": 3
   },
   "file_extension": ".py",
   "mimetype": "text/x-python",
   "name": "python",
   "nbconvert_exporter": "python",
   "pygments_lexer": "ipython3",
   "version": "3.6.6"
  }
 },
 "nbformat": 4,
 "nbformat_minor": 2
}
